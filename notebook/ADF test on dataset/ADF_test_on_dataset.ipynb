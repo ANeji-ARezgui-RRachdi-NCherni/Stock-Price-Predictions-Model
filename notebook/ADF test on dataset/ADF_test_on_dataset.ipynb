{
 "cells": [
  {
   "cell_type": "markdown",
   "id": "fcae3ad6",
   "metadata": {},
   "source": [
    "# Apply ADF test on AB\n",
    "\n",
    "In this markdown we want to apply the ADF test on a sample dataset (for our case AB.CSV from 04-01-2010 -> 30-04-2025) in order to check if the dataset is stationary or not because ARIMA works mainly under the assumption that the data is stationary\n",
    "\n",
    "Reference : [ARIMA for Time Series Forecasting: A Complete Guide](https://www.datacamp.com/tutorial/arima?utm_source=google&utm_medium=paid_search&utm_campaignid=19589720821&utm_adgroupid=157156374671&utm_device=c&utm_keyword=&utm_matchtype=&utm_network=g&utm_adpostion=&utm_creative=684592139519&utm_targetid=aud-1832882613722:dsa-2218886984580&utm_loc_interest_ms=&utm_loc_physical_ms=9075942&utm_content=ps-other~emea-en~dsa~tofu~tutorial-data-science&accountid=9624585688&utm_campaign=230119_1-ps-other~dsa~tofu_2-b2c_3-emea_4-prc_5-na_6-na_7-le_8-pdsh-go_9-nb-e_10-na_11-na&gad_source=1&gad_campaignid=19589720821&gbraid=0AAAAADQ9WsGUWLqGcD5s3R77YBKNLoBz9&gclid=Cj0KCQjwt8zABhDKARIsAHXuD7bXzRd--J5d6v6mIDSTahU_LTAevnsUHX1nGVzx6X1IdbWdnWB__UMaAlDeEALw_wcB)"
   ]
  },
  {
   "cell_type": "code",
   "execution_count": 1,
   "id": "80cecc25",
   "metadata": {},
   "outputs": [],
   "source": [
    "## Imports\n",
    "import pandas as pd\n",
    "from statsmodels.tsa.stattools import adfuller"
   ]
  },
  {
   "cell_type": "code",
   "execution_count": 13,
   "id": "f06dd8c6",
   "metadata": {},
   "outputs": [
    {
     "data": {
      "text/html": [
       "<div>\n",
       "<style scoped>\n",
       "    .dataframe tbody tr th:only-of-type {\n",
       "        vertical-align: middle;\n",
       "    }\n",
       "\n",
       "    .dataframe tbody tr th {\n",
       "        vertical-align: top;\n",
       "    }\n",
       "\n",
       "    .dataframe thead th {\n",
       "        text-align: right;\n",
       "    }\n",
       "</style>\n",
       "<table border=\"1\" class=\"dataframe\">\n",
       "  <thead>\n",
       "    <tr style=\"text-align: right;\">\n",
       "      <th></th>\n",
       "      <th>date</th>\n",
       "      <th>ouverture</th>\n",
       "      <th>haut</th>\n",
       "      <th>bas</th>\n",
       "      <th>cloture</th>\n",
       "      <th>volume</th>\n",
       "    </tr>\n",
       "  </thead>\n",
       "  <tbody>\n",
       "    <tr>\n",
       "      <th>0</th>\n",
       "      <td>2010-01-04</td>\n",
       "      <td>20.097738</td>\n",
       "      <td>20.211499</td>\n",
       "      <td>20.097738</td>\n",
       "      <td>20.211499</td>\n",
       "      <td>970.0</td>\n",
       "    </tr>\n",
       "    <tr>\n",
       "      <th>1</th>\n",
       "      <td>2010-01-05</td>\n",
       "      <td>20.211499</td>\n",
       "      <td>20.742383</td>\n",
       "      <td>20.097738</td>\n",
       "      <td>20.628622</td>\n",
       "      <td>19292.0</td>\n",
       "    </tr>\n",
       "    <tr>\n",
       "      <th>2</th>\n",
       "      <td>2010-01-06</td>\n",
       "      <td>20.666542</td>\n",
       "      <td>21.231554</td>\n",
       "      <td>20.628622</td>\n",
       "      <td>20.856143</td>\n",
       "      <td>14965.0</td>\n",
       "    </tr>\n",
       "    <tr>\n",
       "      <th>3</th>\n",
       "      <td>2010-01-07</td>\n",
       "      <td>20.856143</td>\n",
       "      <td>21.349107</td>\n",
       "      <td>20.704462</td>\n",
       "      <td>21.239138</td>\n",
       "      <td>16099.0</td>\n",
       "    </tr>\n",
       "    <tr>\n",
       "      <th>4</th>\n",
       "      <td>2010-01-08</td>\n",
       "      <td>21.534916</td>\n",
       "      <td>21.534916</td>\n",
       "      <td>20.969904</td>\n",
       "      <td>21.235346</td>\n",
       "      <td>1460.0</td>\n",
       "    </tr>\n",
       "  </tbody>\n",
       "</table>\n",
       "</div>"
      ],
      "text/plain": [
       "        date  ouverture       haut        bas    cloture   volume\n",
       "0 2010-01-04  20.097738  20.211499  20.097738  20.211499    970.0\n",
       "1 2010-01-05  20.211499  20.742383  20.097738  20.628622  19292.0\n",
       "2 2010-01-06  20.666542  21.231554  20.628622  20.856143  14965.0\n",
       "3 2010-01-07  20.856143  21.349107  20.704462  21.239138  16099.0\n",
       "4 2010-01-08  21.534916  21.534916  20.969904  21.235346   1460.0"
      ]
     },
     "execution_count": 13,
     "metadata": {},
     "output_type": "execute_result"
    }
   ],
   "source": [
    "# Load Dataset\n",
    "csv_path = \"AB.csv\"\n",
    "\n",
    "data = pd.read_csv(\n",
    "    csv_path,\n",
    "    parse_dates=[\"date\"],\n",
    "    sep=\";\",\n",
    "    dayfirst=False,\n",
    ")\n",
    "\n",
    "data.head()"
   ]
  },
  {
   "cell_type": "code",
   "execution_count": 14,
   "id": "f72cbeb9",
   "metadata": {},
   "outputs": [
    {
     "name": "stdout",
     "output_type": "stream",
     "text": [
      "ADF Statistic (Original): 0.4528\n",
      "p-value (Original): 0.9834\n",
      "Interpretation: The original series is Non-Stationary.\n",
      "\n",
      "ADF Statistic (Differenced): -40.8537\n",
      "p-value (Differenced): 0.0000\n",
      "Interpretation: The differenced series is Stationary.\n"
     ]
    }
   ],
   "source": [
    "# Perform the Augmented Dickey-Fuller test on the original series\n",
    "result_original = adfuller(data[\"cloture\"])\n",
    "\n",
    "print(f\"ADF Statistic (Original): {result_original[0]:.4f}\")\n",
    "print(f\"p-value (Original): {result_original[1]:.4f}\")\n",
    "\n",
    "if result_original[1] < 0.05:\n",
    "    print(\"Interpretation: The original series is Stationary.\\n\")\n",
    "else:\n",
    "    print(\"Interpretation: The original series is Non-Stationary.\\n\")\n",
    "\n",
    "# Apply first-order differencing\n",
    "data['cloture_Diff'] = data['cloture'].diff()\n",
    "\n",
    "# Perform the Augmented Dickey-Fuller test on the differenced series\n",
    "result_diff = adfuller(data[\"cloture_Diff\"].dropna())\n",
    "print(f\"ADF Statistic (Differenced): {result_diff[0]:.4f}\")\n",
    "print(f\"p-value (Differenced): {result_diff[1]:.4f}\")\n",
    "if result_diff[1] < 0.05:\n",
    "    print(\"Interpretation: The differenced series is Stationary.\")\n",
    "else:\n",
    "    print(\"Interpretation: The differenced series is Non-Stationary.\")\n"
   ]
  }
 ],
 "metadata": {
  "kernelspec": {
   "display_name": "Stock_Price_Prediction",
   "language": "python",
   "name": "python3"
  },
  "language_info": {
   "codemirror_mode": {
    "name": "ipython",
    "version": 3
   },
   "file_extension": ".py",
   "mimetype": "text/x-python",
   "name": "python",
   "nbconvert_exporter": "python",
   "pygments_lexer": "ipython3",
   "version": "3.11.0"
  }
 },
 "nbformat": 4,
 "nbformat_minor": 5
}
